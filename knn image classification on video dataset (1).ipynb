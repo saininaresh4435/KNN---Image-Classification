{
 "cells": [
  {
   "cell_type": "code",
   "execution_count": 3,
   "metadata": {},
   "outputs": [
    {
     "name": "stdout",
     "output_type": "stream",
     "text": [
      "jogging\n",
      "walking\n"
     ]
    }
   ],
   "source": [
    "# import important library\n",
    "import os\n",
    "import cv2\n",
    "#define datapath. By using this code we can get the video frame.\n",
    "PATH=os.getcwd()\n",
    "data_path=PATH+'/dataset1'\n",
    "data_dir_list = os.listdir(data_path)\n",
    "video_data_dict={} \n",
    "newpath = r'C:\\Users\\HP\\Desktop\\internship_jogging' \n",
    "if not os.path.exists(newpath):\n",
    "    os.makedirs(newpath)\n",
    "for classes in data_dir_list:\n",
    "    print(classes)\n",
    "   \n",
    "    data_dir_list2=os.listdir(data_path+'/'+ classes)\n",
    "    \n",
    "   \n",
    "    \n",
    "    count=0\n",
    "    i=0\n",
    "    for j,video in  enumerate(data_dir_list2):\n",
    "        video_data_dict[j]=[]\n",
    "        vidcap = cv2.VideoCapture('video.avi')\n",
    "      \n",
    "        newpath = r'C:\\Users\\HP\\Desktop\\internship_%s'%(classes)+'/'+str(j) \n",
    "        if not os.path.exists(newpath):\n",
    "            os.makedirs(newpath)\n",
    "        success = True\n",
    "        count=0\n",
    "        while success:\n",
    "            success,image = vidcap.read()\n",
    "             \n",
    "            name = newpath+'/'+str(count) + '.jpg'\n",
    "            #print ('Creating...' + name)\n",
    "            cv2.imwrite(name,image)\n",
    "            #print ('Read a new frame: ', success)\n",
    "           \n",
    "            count +=1\n",
    "                "
   ]
  },
  {
   "cell_type": "code",
   "execution_count": 5,
   "metadata": {},
   "outputs": [],
   "source": [
    "from sklearn.neighbors import KNeighborsClassifier\n",
    "from sklearn.cross_validation import train_test_split\n",
    "from imutils import paths\n",
    "import numpy as np\n",
    "import argparse\n",
    "import imutils\n",
    "import cv2\n",
    "import os\n"
   ]
  },
  {
   "cell_type": "code",
   "execution_count": 6,
   "metadata": {},
   "outputs": [],
   "source": [
    "\n",
    "USE_SKLEARN_PREPROCESSING='True'\n",
    "if USE_SKLEARN_PREPROCESSING:\n",
    "    # using sklearn for preprocessing\n",
    "    from sklearn import preprocessing\n",
    "    def image_to_feature_vector(image, size=(32, 32)):\n",
    "# resize the image to a fixed size, then flatten the image into\n",
    "# a list of raw pixel intensities\n",
    "        return cv2.resize(image, size).flatten()\n",
    "#by using final_app function we can get all images corresponding to different class and different videos.\n",
    "    def final_app(classes):\n",
    "        PATH=os.getcwd()\n",
    "        data_path=PATH+'/internship_%s'%(classes)\n",
    "        data_dir_list = os.listdir(data_path)\n",
    "        img_data_dict={}\n",
    "        for i in range(52):\n",
    "            img_data_dict[i]=[]\n",
    "        j=0\n",
    "        \n",
    "        for classes in data_dir_list:\n",
    "\n",
    "            data_dir_list2=os.listdir(data_path+'/'+ classes)\n",
    "            for img in data_dir_list2:\n",
    "                input_img=cv2.imread(data_path + '/'+ classes +'/'+ img)\n",
    "                if input_img is not None:\n",
    "                        input_img_flatten=image_to_feature_vector(input_img,size=(32,32))\n",
    "                        img_data_dict[j].append(input_img_flatten) \n",
    "            j=j+1\n",
    "        return(img_data_dict)\n",
    "\n",
    "\n",
    "img_jogging = final_app('jogging')\n",
    "#converting image dict into numpy array\n",
    "img_jogging = [np.array(img_jogging[i]) for i in range(0,52)]\n",
    "img_walking = final_app('walking')\n",
    "img_walking = [np.array(img_jogging[i]) for i in range(0,52)]\n",
    "\n",
    "\n",
    "\n"
   ]
  },
  {
   "cell_type": "code",
   "execution_count": 7,
   "metadata": {},
   "outputs": [],
   "source": [
    "#print(img_walking)\n"
   ]
  },
  {
   "cell_type": "code",
   "execution_count": 8,
   "metadata": {},
   "outputs": [
    {
     "data": {
      "text/plain": [
       "array([[135.50810811, 135.50810811, 135.50810811, ..., 117.65585586,\n",
       "        117.65585586, 117.65585586],\n",
       "       [135.50810811, 135.50810811, 135.50810811, ..., 117.65585586,\n",
       "        117.65585586, 117.65585586],\n",
       "       [135.50810811, 135.50810811, 135.50810811, ..., 117.65585586,\n",
       "        117.65585586, 117.65585586],\n",
       "       ...,\n",
       "       [135.50810811, 135.50810811, 135.50810811, ..., 117.65585586,\n",
       "        117.65585586, 117.65585586],\n",
       "       [135.50810811, 135.50810811, 135.50810811, ..., 117.65585586,\n",
       "        117.65585586, 117.65585586],\n",
       "       [135.50810811, 135.50810811, 135.50810811, ..., 117.65585586,\n",
       "        117.65585586, 117.65585586]])"
      ]
     },
     "execution_count": 8,
     "metadata": {},
     "output_type": "execute_result"
    }
   ],
   "source": [
    "import numpy as np\n",
    "X=np.append(img_jogging,img_walking,axis=0)\n",
    "X = np.mean(X,axis=1)\n",
    "X"
   ]
  },
  {
   "cell_type": "code",
   "execution_count": 9,
   "metadata": {},
   "outputs": [
    {
     "data": {
      "text/plain": [
       "(104, 3073)"
      ]
     },
     "execution_count": 9,
     "metadata": {},
     "output_type": "execute_result"
    }
   ],
   "source": [
    "import numpy as np\n",
    "#here i am representing jogging by 0 and walking by 1.\n",
    "y_jogging=np.zeros([52])\n",
    "y_walking = np.ones([52])\n",
    "y = np.append(y_jogging,y_walking,axis=0)\n",
    "y = np.reshape(y,(104,1))\n",
    "final = np.append(X,y,axis = 1)\n",
    "final.shape\n"
   ]
  },
  {
   "cell_type": "code",
   "execution_count": 10,
   "metadata": {},
   "outputs": [],
   "source": [
    "# random shuffle\n",
    "finbal = np.take(final,np.random.permutation(final.shape[0]),axis=0,out=final)\n",
    "finbal.shape\n",
    "X_final = finbal[:,:finbal.shape[1]-2]\n",
    "y_final = finbal[:,finbal.shape[1]-1]"
   ]
  },
  {
   "cell_type": "code",
   "execution_count": 11,
   "metadata": {},
   "outputs": [
    {
     "data": {
      "text/plain": [
       "array([1., 0., 0., 0., 1., 1., 1., 1., 1., 1., 1., 0., 0., 0., 1., 1., 0.,\n",
       "       1., 0., 0., 1., 0., 0., 1., 0., 0., 1., 0., 0., 0., 0., 0., 0., 1.,\n",
       "       1., 1., 1., 0., 0., 0., 1., 0., 1., 0., 1., 0., 0., 1., 1., 0., 1.,\n",
       "       1., 1., 1., 0., 0., 1., 0., 0., 1., 0., 0., 0., 0., 0., 1., 1., 0.,\n",
       "       1., 1., 0., 0., 1., 1., 1., 0., 1., 1., 0., 1., 1., 1., 0., 1., 0.,\n",
       "       1., 0., 0., 1., 1., 0., 1., 1., 1., 0., 0., 0., 1., 1., 0., 1., 0.,\n",
       "       0., 1.])"
      ]
     },
     "execution_count": 11,
     "metadata": {},
     "output_type": "execute_result"
    }
   ],
   "source": [
    "y_final"
   ]
  },
  {
   "cell_type": "code",
   "execution_count": 12,
   "metadata": {},
   "outputs": [
    {
     "name": "stdout",
     "output_type": "stream",
     "text": [
      "0.4375\n",
      "0.5625\n",
      "0.5625\n",
      "0.5625\n",
      "0.5625\n",
      "0.5625\n",
      "0.5625\n",
      "0.5625\n",
      "0.5625\n"
     ]
    }
   ],
   "source": [
    "from sklearn.cross_validation import train_test_split\n",
    "from sklearn.neighbors import KNeighborsClassifier\n",
    "from sklearn.preprocessing import StandardScaler\n",
    "X_train, X_test, y_train, y_test = train_test_split(X_final, y_final, test_size=0.3, random_state=0)\n",
    "sc = StandardScaler()\n",
    "X_train_std = sc.fit_transform(X_train)\n",
    "X_test_std = sc.fit_transform(X_test)\n",
    "for k in range(1,10):\n",
    "    knn = KNeighborsClassifier(n_neighbors=k,p=2,metric='minkowski')\n",
    "    model=knn.fit(X_train_std, y_train)\n",
    "    y_pred=model.predict(X_test_std)\n",
    "    from sklearn import metrics\n",
    "    print (metrics.accuracy_score(y_test, y_pred))\n"
   ]
  },
  {
   "cell_type": "code",
   "execution_count": 13,
   "metadata": {},
   "outputs": [
    {
     "data": {
      "text/plain": [
       "array([0., 0., 0., 0., 0., 0., 0., 0., 0., 0., 0., 0., 0., 0., 0., 0., 0.,\n",
       "       0., 0., 0., 0., 0., 0., 0., 0., 0., 0., 0., 0., 0., 0., 0.])"
      ]
     },
     "execution_count": 13,
     "metadata": {},
     "output_type": "execute_result"
    }
   ],
   "source": [
    "y_pred"
   ]
  },
  {
   "cell_type": "code",
   "execution_count": 14,
   "metadata": {},
   "outputs": [
    {
     "data": {
      "text/plain": [
       "array([1., 0., 0., 0., 1., 1., 0., 0., 1., 0., 1., 0., 1., 0., 1., 0., 0.,\n",
       "       0., 1., 1., 0., 1., 0., 1., 0., 0., 1., 0., 0., 1., 0., 1.])"
      ]
     },
     "execution_count": 14,
     "metadata": {},
     "output_type": "execute_result"
    }
   ],
   "source": [
    "y_test"
   ]
  },
  {
   "cell_type": "code",
   "execution_count": null,
   "metadata": {},
   "outputs": [],
   "source": []
  }
 ],
 "metadata": {
  "kernelspec": {
   "display_name": "Python 3",
   "language": "python",
   "name": "python3"
  },
  "language_info": {
   "codemirror_mode": {
    "name": "ipython",
    "version": 3
   },
   "file_extension": ".py",
   "mimetype": "text/x-python",
   "name": "python",
   "nbconvert_exporter": "python",
   "pygments_lexer": "ipython3",
   "version": "3.6.4"
  }
 },
 "nbformat": 4,
 "nbformat_minor": 2
}
